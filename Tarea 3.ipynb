{
 "cells": [
  {
   "cell_type": "markdown",
   "metadata": {},
   "source": [
    "# Tarea 3\n",
    "**Nombre : Silvio Varela**"
   ]
  },
  {
   "cell_type": "markdown",
   "metadata": {},
   "source": [
    "*En esta tarea, realizaremos un ejercicio en que escribiremos un programa simple en Python de manera\n",
    "colaborativa por medio de Git y GitHub.*\n",
    "*Para ello, se debe clonar el repositorio ubicado en: https://github.com/gdamke/ExercisePython2020.git*"
   ]
  },
  {
   "cell_type": "markdown",
   "metadata": {},
   "source": [
    "---\n",
    "---"
   ]
  },
  {
   "cell_type": "markdown",
   "metadata": {},
   "source": [
    "Aqui se usa el comando:\n",
    "\n",
    "`git clone https://github.com/gdamke/ExercisePython2020.git`\n",
    "\n",
    "Para clonar el repositorio. Alli se encuentra un archivo de Python llamado \"programa.py\" que contiene funciones no implementadas. "
   ]
  },
  {
   "cell_type": "markdown",
   "metadata": {},
   "source": [
    "---\n",
    "---\n",
    "*Cada uno de los integrantes del curso tiene acceso como editor del repositorio.\n",
    "Entregar la lista de los comandos utilizados y descripciones de lo que se busca conseguir, no olvide usar\n",
    "mensajes claros en cada commit que haga al repositorio. Además, adjuntar el programa desde su\n",
    "computador.*\n",
    "\n",
    "***Parte 1***:\n",
    "\n",
    "*El programa llamado “programa.py” posee 4 funciones aritméticas definidas pero no implementadas.*\n",
    "\n",
    "* Estudiante 1: Implementar función suma \n",
    "* Estudiante 2: Implementar función resta (**YO**)\n",
    "* Estudiante 3: Implementar función multiplicación\n",
    "* Estudiante 4: Implementar función división.\n",
    "\n",
    "*Estas funciones deben implementarlas en la rama “master”.*"
   ]
  },
  {
   "cell_type": "markdown",
   "metadata": {},
   "source": [
    "---\n",
    "---\n",
    "Luego de clonar la carpeta, acepto la invitacion para poder editar en el repositorio. Despues de esto, en el terminal me posiciono en la carpeta clonada con el comando `cd ~/.../ExercisePython2020`, con un editor de texto (aqui se usa **Kate**)  se abre el archivo programa.py y se implementa la funcion **resta**. Posteriormente, los siguientes pasos corresponden a subir y actualizar el repositorio en la rama \"master\":\n",
    "\n",
    "* Puedo usar el comando `git add .` o `git add programa.py` para registrar el cambio de programa en el **Index** (es un area de preparacion entre el directorio local y el repositorio). \n",
    "* Luego se hace commit a estos cambios realizados con el comando `git commit -m \"implementar resta\"`. De este modo el archivo esta en el **Head**, sin embargo aun no esta en el repositorio.\n",
    "* Para subir los cambios del archivo del **Head** al repositorio se ejecuta el comando `git push origin master`, el cual \"master\" corresponde al nombre del branch principal del repositorio. Aqui el comando te pide el nombre de usuario y el pass en Github. Finalmente el codigo editado ya esta subido en el repositorio.\n",
    "---\n",
    "---"
   ]
  },
  {
   "cell_type": "markdown",
   "metadata": {},
   "source": [
    "***Parte 2***:\n",
    "\n",
    "*En esta sección, cada estudiante creará la siguiente rama (branch):*\n",
    "\n",
    "* Estudiante 1: Rama cuadrado\n",
    "* Estudiante 2: Rama raiz_cuadrada (**Yo nuevamente**)\n",
    "* Estudiante 3: Rama exponencial\n",
    "* Estudiante 4: Rama lognatural\n",
    "\n",
    "***2.1***: *En cada rama, definir la función que respectiva (usando el argumento pass), pero no implementar\n",
    "la función (al igual como están definidas las funciones inicialmente en la Parte 1).*\n",
    "\n",
    "---\n",
    "---"
   ]
  },
  {
   "cell_type": "markdown",
   "metadata": {},
   "source": [
    "* Para crear un branch se ejecuta el comando `git checkout -b raiz_cuadrada`, en ese instante estaras posicionado en la rama \"raiz_cuadrada\", sin embargo esta rama no estara activa en el repositorio, por lo que es necesario subirla.\n",
    "* Para subir la rama al repositorio se utiliza el comando `git push origin raiz_cuadrada`, de ese modo la rama estara activa y disponible en el repositorio.\n",
    "* Para moverse entre ramas se usa el comando `git checkout <nombre rama>`\n",
    "* Estando en la rama \"raiz_cuadrada\" (se puede verificar con `git status`) se define la funcion raiz cuadrada en el codigo programa.py, pero no se implementa. Luego se registra el cambio con `git add .`, se hace commit con `git commit -m \"definicion raiz_cuadrada\"` y se sube al repositorio con `git push origin raiz_cuadrada`\n",
    "---\n",
    "---\n",
    "***2.2:*** *Luego del paso 2.1 (y previa coordinación de los estudiantes), E1 implementará la función de la\n",
    "rama de E2; E2 la de E1; E3 la de E4; y E4 la de E3. Submitir los cambios al repositorio.*\n",
    "\n",
    "---\n",
    "---\n",
    "* Aqui se conversa con *catamorau* para que implemente raiz_cuadrada y yo implementar en su funcion cuadrado, situado en la rama \"cuadrado\".\n",
    "* Para implementar la funcion cuadrado me muevo hacia la rama \"cuadrado\" con el comando `git checkout cuadrado`\n",
    "* Actualizo mi carpeta local con el comando `git pull`, asi al abrir programa.py veo definida la funcion cuadrado. Se implementa la funcion y se realiza el mismo paso para subir el cambio en la rama cuadrado.\n",
    "    * `git add .` para registrar el cambio.\n",
    "    * `git commit -m \"SV: Impl. cuadrado\"` para hacer el commit.\n",
    "    * `git push origin cuadrado` para subir el cambio al repositorio en la rama cuadrado.\n",
    "---\n",
    "---\n"
   ]
  },
  {
   "cell_type": "markdown",
   "metadata": {},
   "source": [
    "***2.3:*** *Finalmente, cada estudiante unirá (merge) la rama respectiva que creó en 2.1 a la rama master del\n",
    "programa para implementar las funciones respectivas de la Parte 2.*\n",
    "\n",
    "---\n",
    "---"
   ]
  },
  {
   "cell_type": "markdown",
   "metadata": {},
   "source": [
    "* Para unir la rama \"raiz_cuadrado\" a la rama master se situa en la rama master con `git checkout master`.\n",
    "* Luego se fusiona con la rama raiz_cuadrada usando el comando `git merge raiz_cuadrada`\n",
    "\n",
    "En nuestro caso hubo un conflicto ya que la funcion cuadrado y raiz cuadrada compartian lineas del codigo cercanas, por lo que se sobreponian y no era posible fusionarlas correctamente en el primer intento. Para solucionar esto, el codigo anterior devuelve programa.py marcando y mostrando las funciones en conflicto, por lo que se corrige el codigo para que las funciones no compartan las mismas lineas. Luego de guardar la edicion se registra el cambio y se marcan como fusionados con el comando `git add programa.py`, posterior se hace el commit `git commit -m \"corrigiendo conflicto merge\"` y se sube al repositorio `git push origin master`."
   ]
  },
  {
   "cell_type": "code",
   "execution_count": null,
   "metadata": {},
   "outputs": [],
   "source": []
  }
 ],
 "metadata": {
  "kernelspec": {
   "display_name": "Python 3",
   "language": "python",
   "name": "python3"
  },
  "language_info": {
   "codemirror_mode": {
    "name": "ipython",
    "version": 3
   },
   "file_extension": ".py",
   "mimetype": "text/x-python",
   "name": "python",
   "nbconvert_exporter": "python",
   "pygments_lexer": "ipython3",
   "version": "3.9.1"
  }
 },
 "nbformat": 4,
 "nbformat_minor": 4
}
